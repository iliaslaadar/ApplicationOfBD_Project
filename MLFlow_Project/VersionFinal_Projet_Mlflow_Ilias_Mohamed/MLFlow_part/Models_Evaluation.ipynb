{
 "cells": [
  {
   "cell_type": "markdown",
   "metadata": {},
   "source": [
    "# Ilias LAADAR - Mohamed ABDELAZIZ - Applications of Big Data"
   ]
  },
  {
   "cell_type": "markdown",
   "metadata": {},
   "source": [
    "## Models Evaluation"
   ]
  },
  {
   "cell_type": "code",
   "execution_count": 1,
   "metadata": {},
   "outputs": [],
   "source": [
    "import os\n",
    "import warnings\n",
    "import sys\n",
    "\n",
    "import pandas as pd\n",
    "\n",
    "from sklearn.metrics import accuracy_score\n",
    "from sklearn.metrics import f1_score\n",
    "from sklearn.metrics import precision_score\n",
    "from sklearn.metrics import recall_score\n",
    "\n",
    "\n",
    "\"\"\"\n",
    "    Evaluate the models\n",
    "\n",
    "    Args:\n",
    "        actual (DataFrame): The labels of the training data\n",
    "        pred (DataFrame): The predictions of the model\n",
    "\n",
    "    Returns:\n",
    "        accuracy (float): The accuracy of the model\n",
    "        f1score (float): The f1score of the model\n",
    "        precision (float): The precision of the model\n",
    "        recall (float): The recall of the model\n",
    "\"\"\""
   ]
  },
  {
   "cell_type": "code",
   "execution_count": 2,
   "metadata": {},
   "outputs": [],
   "source": [
    "def evaluation_metrics(actual, pred):\n",
    "    accuracy = accuracy_score(actual, pred)\n",
    "    f1score = f1_score(actual, pred, average='micro')\n",
    "    precision = precision_score(actual, pred, average='weighted')\n",
    "    recall = recall_score(actual, pred, average='micro')\n",
    "    \n",
    "    return accuracy, f1score, precision, recall"
   ]
  }
 ],
 "metadata": {
  "kernelspec": {
   "display_name": "Python 3",
   "language": "python",
   "name": "python3"
  },
  "language_info": {
   "codemirror_mode": {
    "name": "ipython",
    "version": 3
   },
   "file_extension": ".py",
   "mimetype": "text/x-python",
   "name": "python",
   "nbconvert_exporter": "python",
   "pygments_lexer": "ipython3",
   "version": "3.7.6"
  }
 },
 "nbformat": 4,
 "nbformat_minor": 4
}
