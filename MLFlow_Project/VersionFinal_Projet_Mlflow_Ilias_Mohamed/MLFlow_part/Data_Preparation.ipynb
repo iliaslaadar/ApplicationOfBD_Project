{
 "cells": [
  {
   "cell_type": "markdown",
   "metadata": {},
   "source": [
    "# Ilias LAADAR - Mohamed ABDELAZIZ - Applications of Big Data"
   ]
  },
  {
   "cell_type": "markdown",
   "metadata": {},
   "source": [
    "## Data Preparation"
   ]
  },
  {
   "cell_type": "code",
   "execution_count": 1,
   "metadata": {},
   "outputs": [],
   "source": [
    "import os\n",
    "import warnings\n",
    "import sys\n",
    "\n",
    "import pandas as pd\n",
    "\n",
    "\n",
    "\"\"\"\n",
    "    Prepare the data\n",
    "\n",
    "    Args:\n",
    "        None\n",
    "\n",
    "    Returns:\n",
    "        df_train (DataFrame): Prepared data\n",
    "\"\"\""
   ]
  },
  {
   "cell_type": "code",
   "execution_count": 2,
   "metadata": {},
   "outputs": [],
   "source": [
    "def data_preparation():\n",
    "    df_train = pd.read_csv(\"application_train.csv\")\n",
    "    \n",
    "    # Replace missing values by the mean of the feature\n",
    "    df_str = df_train.select_dtypes(include='object').fillna('Unknown')\n",
    "    df_train = df_train.select_dtypes(exclude='object')\n",
    "    df_train = df_train.fillna(df_train.mean())\n",
    "    \n",
    "    df_train = df_train.join(df_str)\n",
    "    \n",
    "    return df_train"
   ]
  }
 ],
 "metadata": {
  "kernelspec": {
   "display_name": "Python 3",
   "language": "python",
   "name": "python3"
  },
  "language_info": {
   "codemirror_mode": {
    "name": "ipython",
    "version": 3
   },
   "file_extension": ".py",
   "mimetype": "text/x-python",
   "name": "python",
   "nbconvert_exporter": "python",
   "pygments_lexer": "ipython3",
   "version": "3.7.6"
  }
 },
 "nbformat": 4,
 "nbformat_minor": 4
}
