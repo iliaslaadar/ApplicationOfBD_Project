{
 "cells": [
  {
   "cell_type": "markdown",
   "metadata": {},
   "source": [
    "# Ilias LAADAR - Mohamed ABDELAZIZ - Applications of Big Data"
   ]
  },
  {
   "cell_type": "markdown",
   "metadata": {},
   "source": [
    "## Models Predictions"
   ]
  },
  {
   "cell_type": "code",
   "execution_count": 1,
   "metadata": {},
   "outputs": [],
   "source": [
    "import os\n",
    "import warnings\n",
    "import sys\n",
    "\n",
    "import pandas as pd\n",
    "\n",
    "\n",
    "\"\"\"\n",
    "    Predictions of the model\n",
    "\n",
    "    Args:\n",
    "        ***_model: The model we want to use\n",
    "        X_test (DataFrame): The values to test the models\n",
    "\n",
    "    Returns:\n",
    "        ***_pred (DataFrame): Model predictions\n",
    "\"\"\""
   ]
  },
  {
   "cell_type": "code",
   "execution_count": 2,
   "metadata": {},
   "outputs": [],
   "source": [
    "def XGB_pred(xgb_model, X_test):\n",
    "    xgb_pred = xgb_model.predict(X_test)\n",
    "    return xgb_pred"
   ]
  },
  {
   "cell_type": "code",
   "execution_count": 3,
   "metadata": {},
   "outputs": [],
   "source": [
    "def RF_pred(rf_model, X_test):\n",
    "    rf_pred = rf_model.predict(X_test)\n",
    "    return rf_pred"
   ]
  },
  {
   "cell_type": "code",
   "execution_count": 4,
   "metadata": {},
   "outputs": [],
   "source": [
    "def GBC_pred(gbc_model, X_test):\n",
    "    gbc_pred = gbc_model.predict(X_test)\n",
    "    return gbc_pred"
   ]
  }
 ],
 "metadata": {
  "kernelspec": {
   "display_name": "Python 3",
   "language": "python",
   "name": "python3"
  },
  "language_info": {
   "codemirror_mode": {
    "name": "ipython",
    "version": 3
   },
   "file_extension": ".py",
   "mimetype": "text/x-python",
   "name": "python",
   "nbconvert_exporter": "python",
   "pygments_lexer": "ipython3",
   "version": "3.7.6"
  }
 },
 "nbformat": 4,
 "nbformat_minor": 4
}
