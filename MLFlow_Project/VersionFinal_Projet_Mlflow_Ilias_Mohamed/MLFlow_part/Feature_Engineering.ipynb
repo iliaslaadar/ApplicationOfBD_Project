{
 "cells": [
  {
   "cell_type": "markdown",
   "metadata": {},
   "source": [
    "# Ilias LAADAR - Mohamed ABDELAZIZ - Applications of Big Data"
   ]
  },
  {
   "cell_type": "markdown",
   "metadata": {},
   "source": [
    "## Feature Engineering "
   ]
  },
  {
   "cell_type": "code",
   "execution_count": 1,
   "metadata": {},
   "outputs": [],
   "source": [
    "import os\n",
    "import warnings\n",
    "import sys\n",
    "\n",
    "import pandas as pd\n",
    "from sklearn.model_selection import train_test_split\n",
    "\n",
    "\n",
    "\"\"\"\n",
    "    Feature engineering\n",
    "\n",
    "    Args:\n",
    "        df_train (DataFrame): Prepared data\n",
    "\n",
    "    Returns:\n",
    "        X_train (DataFrame): The values to train the models\n",
    "        y_train (DataFrame): The labels to train the models\n",
    "        X_test (DataFrame): The values to test the models\n",
    "        y_test (DataFrame): The labels to test the models\n",
    "\"\"\""
   ]
  },
  {
   "cell_type": "code",
   "execution_count": 2,
   "metadata": {},
   "outputs": [],
   "source": [
    "def feature_engineering(df_train):\n",
    "    df_train = pd.get_dummies(df_train)\n",
    "    \n",
    "    y = df_train['TARGET']\n",
    "    df_train = df_train.drop(['TARGET'], axis=1)\n",
    "    \n",
    "    X_train, X_test, y_train, y_test = train_test_split(df_train, y, test_size = 0.2, random_state = 42)\n",
    "    \n",
    "    return X_train, X_test, y_train, y_test"
   ]
  }
 ],
 "metadata": {
  "kernelspec": {
   "display_name": "Python 3",
   "language": "python",
   "name": "python3"
  },
  "language_info": {
   "codemirror_mode": {
    "name": "ipython",
    "version": 3
   },
   "file_extension": ".py",
   "mimetype": "text/x-python",
   "name": "python",
   "nbconvert_exporter": "python",
   "pygments_lexer": "ipython3",
   "version": "3.7.6"
  }
 },
 "nbformat": 4,
 "nbformat_minor": 4
}
